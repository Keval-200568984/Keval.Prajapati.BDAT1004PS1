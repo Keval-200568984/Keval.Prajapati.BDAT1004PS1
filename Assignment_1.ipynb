{
 "cells": [
  {
   "cell_type": "markdown",
   "id": "04c1ede0",
   "metadata": {},
   "source": []
  },
  {
   "cell_type": "markdown",
   "id": "b683ecd4",
   "metadata": {},
   "source": [
    "**C# code**"
   ]
  },
  {
   "cell_type": "markdown",
   "id": "86265b58",
   "metadata": {},
   "source": []
  },
  {
   "cell_type": "code",
   "execution_count": null,
   "id": "0d309f2c",
   "metadata": {},
   "outputs": [],
   "source": [
    "Question 1 C#\n",
    "\n",
    "What data type is each of the following?\n",
    "\n",
    "5\n",
    "*Integer*\n",
    "\n",
    "5.0\n",
    "*Double*\n",
    "\n",
    "5 > 1\n",
    "*Boolean Value True*\n",
    "\n",
    "'5'\n",
    "*String*\n",
    "\n",
    "5 * 2\n",
    "*Integer*\n",
    "\n",
    "'5' * 2\n",
    "*String*\n",
    "\n",
    "'5' + '2'\n",
    "*String*\n",
    "\n",
    "5 / 2\n",
    "*Double*\n",
    "\n",
    "5 % 2\n",
    "*Integer*\n",
    "\n",
    "{ 5, 2, 1 }\n",
    "*Array*\n",
    "\n",
    "5 == 3\n",
    "*Boolean Value False*\n",
    "\n",
    "Pi (the number)\n",
    "*Double*\n"
   ]
  },
  {
   "cell_type": "code",
   "execution_count": null,
   "id": "61d76eba",
   "metadata": {},
   "outputs": [],
   "source": []
  },
  {
   "cell_type": "markdown",
   "id": "5af6b70f",
   "metadata": {},
   "source": [
    "Question 2 C#\n",
    "Write (and evaluate) C# expressions that answer these questions:\n",
    "\n",
    "a. How many letters are there in 'Supercalifragilisticexpialidocious'?\n",
    "\n",
    "\n",
    "b. Does 'Supercalifragilisticexpialidocious' contain 'ice' as a substring?\n",
    "\n",
    "\n",
    "c.Which of the following words is the longest:\n",
    "Supercalifragilisticexpialidocious, Honorificabilitudinitatibus, or\n",
    "Bababadalgharaghtakamminarronnkonn?\n",
    "\n",
    "\n",
    "d. Which composer comes first in the dictionary: 'Berlioz', 'Borodin', 'Brian',\n",
    "'Bartok', 'Bellini', 'Buxtehude', 'Bernstein'. Which one comes last? "
   ]
  },
  {
   "cell_type": "code",
   "execution_count": 9,
   "id": "42014af8",
   "metadata": {},
   "outputs": [
    {
     "name": "stdout",
     "output_type": "stream",
     "text": [
      "34\r\n"
     ]
    }
   ],
   "source": [
    "//a\n",
    "\n",
    "string A = \"Supercalifragilisticexpialidocious\";\n",
    "int num_of_letters = A.Length;\n",
    "Console.WriteLine(num_of_letters);"
   ]
  },
  {
   "cell_type": "code",
   "execution_count": 6,
   "id": "1d8d5ef6",
   "metadata": {},
   "outputs": [
    {
     "name": "stdout",
     "output_type": "stream",
     "text": [
      "True\r\n"
     ]
    }
   ],
   "source": [
    "//b \n",
    "\n",
    "Console.WriteLine(A.Contains(\"ice\"));"
   ]
  },
  {
   "cell_type": "code",
   "execution_count": 4,
   "id": "f12920c9",
   "metadata": {},
   "outputs": [
    {
     "name": "stdout",
     "output_type": "stream",
     "text": [
      "Two or more strings have same length\r\n"
     ]
    }
   ],
   "source": [
    "//c \n",
    "string A = \"Supercalifragilisticexpialidocious\";\n",
    "String B = \"Honorificabilitudinitatibus\";\n",
    "String C = \"Bababadalgharaghtakamminarronnkonn\";\n",
    "\n",
    "if (A.Length > B.Length && A.Length > C.Length)\n",
    "{\n",
    "    Console.WriteLine($\"Longest String {A}\");\n",
    "}\n",
    "else if (B.Length > A.Length && B.Length > C.Length)\n",
    "{\n",
    "    Console.WriteLine($\"Longest String {B}\");\n",
    "}\n",
    "else if (C.Length > A.Length && C.Length > B.Length)\n",
    "{\n",
    "    Console.WriteLine($\"Longest String {C}\");\n",
    "}\n",
    "else \n",
    "{\n",
    "    Console.WriteLine(\"Two or more strings have same length\");\n",
    "} "
   ]
  },
  {
   "cell_type": "code",
   "execution_count": null,
   "id": "3ab7dd9e",
   "metadata": {},
   "outputs": [],
   "source": []
  },
  {
   "cell_type": "code",
   "execution_count": 1,
   "id": "e9adb10d",
   "metadata": {},
   "outputs": [
    {
     "name": "stdout",
     "output_type": "stream",
     "text": [
      "The first composer in the list is Bartok\n",
      "The first composer in the list is Buxtehude\n"
     ]
    }
   ],
   "source": [
    "//d Which composer comes first in the dictionary: 'Berlioz', 'Borodin', 'Brian', 'Bartok', 'Bellini', 'Buxtehude', 'Bernstein'. Which one comes last?\n",
    "\n",
    "string[] composers = {\"Berlioz\", \"Borodin\", \"Brian\", \"Bartok\", \"Bellini\", \"Buxtehude\", \"Bernstein\"};\n",
    "Array.Sort(composers);\n",
    "Console.WriteLine($\"The first composer in the list is {composers[0]}\");\n",
    "Console.WriteLine($\"The first composer in the list is {composers[composers.Length - 1]}\");\n"
   ]
  },
  {
   "cell_type": "code",
   "execution_count": null,
   "id": "ce2bebe9",
   "metadata": {},
   "outputs": [],
   "source": []
  },
  {
   "cell_type": "markdown",
   "id": "93e25e51",
   "metadata": {},
   "source": [
    "Question 3 C#\n",
    "Implement function triangleArea(a,b,c) that takes as input the lengths of the 3\n",
    "sides of a triangle and returns the area of the triangle. By Heron's formula, the area\n",
    "of a triangle with side lengths a, b, and c is\n",
    "(s(s - a)(s -b)(s -c))^1/2 , where\n",
    "s = (a + b + c) /2."
   ]
  },
  {
   "cell_type": "code",
   "execution_count": 27,
   "id": "df30b444",
   "metadata": {},
   "outputs": [
    {
     "name": "stdout",
     "output_type": "stream",
     "text": [
      "Finding Triangle's Area using Heron's Formula\n",
      "The area of triangle is 1.7320508075688772\n"
     ]
    }
   ],
   "source": [
    "Console.WriteLine(\"Finding Triangle's Area using Heron's Formula\");\n",
    "\n",
    "double side_a = 2;\n",
    "double side_b = 2;\n",
    "double side_c = 2; \n",
    "\n",
    "double perimeter = (side_a + side_b + side_c) / 2;\n",
    "\n",
    "double area = Math.Sqrt(perimeter*(perimeter - side_a)*(perimeter - side_b)*(perimeter - side_c));\n",
    "\n",
    "Console.WriteLine($\"The area of triangle is {area}\");"
   ]
  },
  {
   "cell_type": "code",
   "execution_count": null,
   "id": "6d045ea9",
   "metadata": {},
   "outputs": [],
   "source": []
  },
  {
   "cell_type": "markdown",
   "id": "8be3d99d",
   "metadata": {},
   "source": [
    "Question 4 C#\n",
    "\n",
    "Write a program in C# Sharp to separate odd and even integers in separate arrays.\n",
    "Go to the editor\n",
    "Test Data :\n",
    "Input the number of elements to be stored in the array :5\n",
    "Input 5 elements in the array :\n",
    "element - 0 : 25\n",
    "element - 1 : 47\n",
    "element - 2 : 42\n",
    "element - 3 : 56\n",
    "element - 4 : 32\n",
    "Expected Output:\n",
    "The Even elements are:\n",
    "42 56 32\n",
    "The Odd elements are :\n",
    "25 47"
   ]
  },
  {
   "cell_type": "code",
   "execution_count": 3,
   "id": "c13b43b1",
   "metadata": {},
   "outputs": [
    {
     "name": "stdout",
     "output_type": "stream",
     "text": [
      "The Odd Elements\n",
      "42 56 \n",
      "The Even elements are:\n",
      "42 56 32 "
     ]
    }
   ],
   "source": [
    "int[] elements = { 25, 47, 42, 56, 32 };\n",
    "\n",
    "int[] even = new int[elements.Length];\n",
    "int[] odd = new int[elements.Length];\n",
    "\n",
    "int evenC = 0;\n",
    "int oddC = 0;\n",
    "\n",
    "foreach (int element in elements)\n",
    "{\n",
    "    if (element % 2 == 0)\n",
    "    {\n",
    "        even[evenC] = element;\n",
    "        evenC ++;\n",
    "    }\n",
    "    else\n",
    "    {\n",
    "        odd[oddC] = element;\n",
    "        oddC ++;\n",
    "    }\n",
    "}\n",
    "\n",
    "Console.WriteLine(\"The Odd Elements\");\n",
    "for (int i = 0; i < oddC; i++)\n",
    "{\n",
    "    Console.Write(even[i] + \" \");\n",
    "}\n",
    "\n",
    "Console.WriteLine(\"\\nThe Even elements are:\");\n",
    "for (int i = 0; i < evenC; i++)\n",
    "{\n",
    "    Console.Write(even[i] + \" \");\n",
    "}\n"
   ]
  },
  {
   "cell_type": "code",
   "execution_count": null,
   "id": "547b51ad",
   "metadata": {},
   "outputs": [],
   "source": []
  },
  {
   "cell_type": "markdown",
   "id": "59eff879",
   "metadata": {},
   "source": [
    "Question 5 C#\n",
    "a. Write a function inside(x,y,x1,y1,x2,y2) that returns True or False depending on whether the point (x,y) lies in the rectangle with lower left corner (x1,y1) and upper right corner (x2,y2).\n",
    ">>> inside(1,1,0,0,2,3)\n",
    "True\n",
    ">>> inside(-1,-1,0,0,2,3)\n",
    "False\n",
    "b. Use function inside() from part a. to write an expression that tests whether the point (1,1) lies in both of the following rectangles: one with lower left corner (0.3, 0.5) and upper right corner (1.1, 0.7) and the other with lower left corner (0.5, 0.2) and upper right corner (1.1, 2)."
   ]
  },
  {
   "cell_type": "code",
   "execution_count": 9,
   "id": "6d7b367d",
   "metadata": {},
   "outputs": [
    {
     "name": "stdout",
     "output_type": "stream",
     "text": [
      "Part a:\n",
      "True\n",
      "False\n",
      "\n",
      "Part b:\n",
      "Point (1, 1) in Rectangle 1: False\n",
      "Point (1, 1) in Rectangle 2: True\n"
     ]
    }
   ],
   "source": [
    "static bool Inside(double x, double y, double x1, double y1, double x2, double y2)\n",
    "{\n",
    "    return (x >= x1 && x <= x2 && y >= y1 && y <= y2);\n",
    "}\n",
    "\n",
    "Console.WriteLine(\"Part A:\");\n",
    "Console.WriteLine(Inside(1, 1, 0, 0, 2, 3));   \n",
    "Console.WriteLine(Inside(-1, -1, 0, 0, 2, 3)); \n",
    "\n",
    "Console.WriteLine(\"\\nPart B:\");\n",
    "bool inRectangle1 = Inside(1, 1, 0.3, 0.5, 1.1, 0.7);\n",
    "bool inRectangle2 = Inside(1, 1, 0.5, 0.2, 1.1, 2);\n",
    "\n",
    "Console.WriteLine($\"Point (1, 1) in Rectangle 1: {inRectangle1}\");\n",
    "Console.WriteLine($\"Point (1, 1) in Rectangle 2: {inRectangle2}\");\n",
    "\n"
   ]
  },
  {
   "cell_type": "code",
   "execution_count": null,
   "id": "facd7d8a",
   "metadata": {},
   "outputs": [],
   "source": []
  },
  {
   "cell_type": "markdown",
   "id": "b86aac82",
   "metadata": {},
   "source": [
    "**PYTHON code**"
   ]
  },
  {
   "cell_type": "markdown",
   "id": "d0a0b343",
   "metadata": {},
   "source": []
  },
  {
   "cell_type": "markdown",
   "id": "fa73eeca",
   "metadata": {},
   "source": [
    "16. You can turn a word into pig-Latin using the following two rules (simplified):\n",
    "• If the word starts with a consonant, move that letter to the end and append 'ay'. For example, 'happy' becomes 'appyhay' and 'pencil' becomes 'encilpay'.\n",
    "• If the word starts with a vowel, simply append 'way' to the end of the word. For example, 'enter' becomes 'enterway' and 'other' becomes 'otherway' . For our purposes, there are 5 vowels: a, e, i, o, u (so we count y as a consonant).\n",
    "Write a function pig() that takes a word (i.e., a string) as input and returns its pig-Latin form. Your function should still work if the input word contains upper case characters. Your output should always be lower case however.\n",
    ">>> pig('happy')\n",
    "'appyhay'\n",
    ">>> pig('Enter')\n",
    "'enterway'"
   ]
  },
  {
   "cell_type": "code",
   "execution_count": 26,
   "id": "b8631bef",
   "metadata": {},
   "outputs": [
    {
     "name": "stdout",
     "output_type": "stream",
     "text": [
      "Enter a word to get its Pig Latin equivalent: Orange\n",
      "The Pig Latin equivalent of orangeway\n",
      "Enter a word to get its Pig Latin equivalent: Apple\n",
      "The Pig Latin equivalent of appleway\n"
     ]
    }
   ],
   "source": [
    "def pig(word):\n",
    "    word = word.lower()\n",
    "    if word[0] in {\"a\", \"e\", \"i\", \"o\", \"u\"}:    \n",
    "        print(\"The Pig Latin equivalent of \" + word + \"way\")\n",
    "    else:\n",
    "        print(\"The Pig Latin equivalent of \" + word[1: ] + word[0] + \"ay\")\n",
    "    \n",
    "\n",
    "user_input = input(\"Enter a word to get its Pig Latin equivalent: \")\n",
    "pig(user_input)\n",
    " \n",
    "user_input = input(\"Enter a word to get its Pig Latin equivalent: \")\n",
    "pig(user_input)"
   ]
  },
  {
   "cell_type": "code",
   "execution_count": null,
   "id": "325e3746",
   "metadata": {},
   "outputs": [],
   "source": []
  },
  {
   "cell_type": "markdown",
   "id": "efc60f1d",
   "metadata": {},
   "source": [
    "Question 7 Python\n",
    "File bloodtype1.txt records blood-types of patients (A, B, AB, O or OO) at a clinic. Write a function bldcount() that reads the file with name name and reports (i.e., prints) how many patients there are in each bloodtype.\n",
    ">>> bldcount('bloodtype.txt')\n",
    "There are 10 patients of blood type A.\n",
    "There is one patient of blood type B.\n",
    "There are 10 patients of blood type AB.\n",
    "There are 12 patients of blood type O.\n",
    "There are no patients of blood type OO."
   ]
  },
  {
   "cell_type": "code",
   "execution_count": 23,
   "id": "62e584cb",
   "metadata": {},
   "outputs": [
    {
     "name": "stdout",
     "output_type": "stream",
     "text": [
      "There are 15 patients of blood type A.\n",
      "There is one patient of blood type B.\n",
      "There are 13 patients of blood type AB.\n",
      "There are 15 patients of blood type O.\n",
      "There are no patients of blood type OO.\n"
     ]
    }
   ],
   "source": [
    "def bldcount():\n",
    "    blood_type_count = {'A': 0, 'B': 0, 'AB': 0, 'O': 0, 'OO': 0}\n",
    "    file = open(\"C:\\\\Users\\\\keval\\\\Desktop\\\\Georgain\\\\Data Programming\\\\bloodtype1.txt\")\n",
    "    content = file.read().split()\n",
    "    for blood_type in content:\n",
    "        blood_type = blood_type.strip()\n",
    "        if blood_type in blood_type_count:\n",
    "            blood_type_count[blood_type] += 1\n",
    "\n",
    "    for blood_type, count in blood_type_count.items():\n",
    "        if count == 1:\n",
    "            print(f'There is one patient of blood type {blood_type}.')\n",
    "        elif count > 1:\n",
    "            print(f'There are {count} patients of blood type {blood_type}.')\n",
    "        else:\n",
    "            print(f'There are no patients of blood type {blood_type}.')\n",
    "\n",
    "bldcount()"
   ]
  },
  {
   "cell_type": "code",
   "execution_count": null,
   "id": "d5d2c865",
   "metadata": {},
   "outputs": [],
   "source": []
  },
  {
   "cell_type": "markdown",
   "id": "da9f8123",
   "metadata": {},
   "source": [
    "Question 8 Python\n",
    "Write a function curconv() that takes as input:\n",
    "1. a currency represented using a string (e.g., 'JPY' for the Japanese Yen or 'EUR' for the Euro)\n",
    "2. an amount\n",
    "and then converts and returns the amount in US dollars.\n",
    ">>> curconv('EUR', 100)\n",
    "122.96544\n",
    ">>> curconv('JPY', 100)\n",
    "1.241401\n",
    "The currency rates you will need are stored in file currencies.txt:\n",
    "AUD 1.0345157 Australian Dollar\n",
    "CHF 1.0237414 Swiss Franc\n",
    "CNY 0.1550176 Chinese Yuan\n",
    "DKK 0.1651442 Danish Krone\n",
    "EUR 1.2296544 Euro\n",
    "GBP 1.5550989 British Pound\n",
    "HKD 0.1270207 Hong Kong Dollar\n",
    "INR 0.0177643 Indian Rupee\n",
    "JPY 0.01241401 Japanese Yen\n",
    "MXN 0.0751848 Mexican Peso\n",
    "MYR 0.3145411 Malaysian Ringgit\n",
    "NOK 0.1677063 Norwegian Krone\n",
    "NZD 0.8003591 New Zealand Dollar\n",
    "PHP 0.0233234 Philippine Peso\n",
    "SEK 0.148269 Swedish Krona\n",
    "SGD 0.788871 Singapore Dollar\n",
    "THB 0.0313789 Thai Baht"
   ]
  },
  {
   "cell_type": "code",
   "execution_count": 7,
   "id": "472e6274",
   "metadata": {},
   "outputs": [
    {
     "name": "stdout",
     "output_type": "stream",
     "text": [
      "Enter the currency code (e.g., 'EUR', 'JPY'): JPY\n",
      "Enter the amount in the given currency: 100\n",
      "1.241401\n"
     ]
    }
   ],
   "source": [
    "def curconv(currency_code, amount):\n",
    "    file = open(\"C:\\\\Users\\\\keval\\\\Desktop\\\\Georgain\\\\Data Programming\\\\currencies.txt\", 'r')\n",
    "    content = file.readlines()\n",
    "    currency_rates = {}\n",
    "    for line in content:\n",
    "        parts = line.split()\n",
    "        code = parts[0]\n",
    "        rate = float(parts[1])\n",
    "        currency_rates[code] = rate\n",
    "    if currency_code in currency_rates:\n",
    "        usd_amount = amount * currency_rates[currency_code]\n",
    "        return usd_amount\n",
    "    else:\n",
    "        return \"Invalid currency code\"\n",
    "    \n",
    "  \n",
    "currency_code = input(\"Enter the currency code (e.g., 'EUR', 'JPY'): \").upper()\n",
    "amount = float(input(\"Enter the amount in the given currency: \"))\n",
    "conversion = curconv(currency_code, amount)\n",
    "print(conversion)"
   ]
  },
  {
   "cell_type": "code",
   "execution_count": null,
   "id": "11563706",
   "metadata": {},
   "outputs": [],
   "source": []
  },
  {
   "cell_type": "markdown",
   "id": "4265c176",
   "metadata": {},
   "source": [
    "Question 9 Python\n",
    "Each of the following will cause an exception (an error). Identify what type of exception each will cause.\n",
    "\n",
    "\n",
    "\n",
    "Trying to add incompatible variables, as in adding 6 + ‘a’\n",
    "TypeError                                 Traceback (most recent call last)\n",
    "~\\AppData\\Local\\Temp\\ipykernel_25928\\189121290.py in <module>\n",
    "----> 1 print(6 + 's')\n",
    "\n",
    "TypeError: unsupported operand type(s) for +: 'int' and 'str'\n",
    "\n",
    "\n",
    "\n",
    "\n",
    "//Referring to the 12th item of a list that has only 10 items\n",
    "##IndexError                               Traceback (most recent call last)\n",
    "~\\AppData\\Local\\Temp\\ipykernel_33184\\2498335747.py in <module>\n",
    "      1 k = [10,12,13,14,41,53,53,53,35,53]\n",
    "      2 \n",
    "----> 3 result = k[12]\n",
    "\n",
    "IndexError: list index out of range\n",
    "\n",
    "    \n",
    "    \n",
    "    \n",
    "Using a value that is out of range for a function’s input, such as calling math.sqrt(-1.0)\n",
    "##ValueError                                Traceback (most recent call last)\n",
    "~\\AppData\\Local\\Temp\\ipykernel_33184\\3878558428.py in <module>\n",
    "----> 1 math.sqrt(-1.0)\n",
    "\n",
    "ValueError: math domain error\n",
    "\n",
    "    \n",
    "    \n",
    "    \n",
    "//Using an undeclared variable, such as print(x)\n",
    "##NameError                                 Traceback (most recent call last)\n",
    "~\\AppData\\Local\\Temp\\ipykernel_33184\\1353120783.py in <module>\n",
    "----> 1 print(x)\n",
    "\n",
    "NameError: name 'x' is not defined\n",
    "    \n",
    "    \n",
    "//Trying to open a file that does not exist, such as mistyping the file name or looking in the wrong directory.\n",
    "##FileNotFoundError                         Traceback (most recent call last)\n",
    "~\\AppData\\Local\\Temp\\ipykernel_33184\\1520193514.py in <module>\n",
    "----> 1 file = open(\"C:\\\\Users\\\\keval\\\\Desktop\\\\Georgain\\\\Data Programming\\\\currency.txt\", 'r')\n",
    "\n",
    "FileNotFoundError: [Errno 2] No such file or directory: 'C:\\\\Users\\\\keval\\\\Desktop\\\\Georgain\\\\Data Programming\\\\currency.txt'   \n"
   ]
  },
  {
   "cell_type": "code",
   "execution_count": null,
   "id": "1b2a0906",
   "metadata": {},
   "outputs": [],
   "source": []
  },
  {
   "cell_type": "markdown",
   "id": "243c79ef",
   "metadata": {},
   "source": [
    "Question 10 Python\n",
    "Encryption is the process of hiding the meaning of a text by substituting letters in the message with other letters, according to some system. If the process is successful, no one but the intended recipient can understand the encrypted message. Cryptanalysis refers to attempts to undo the encryption, even if some details of the encryption are unknown (for example, if an encrypted message has been intercepted). The first step of cryptanalysis is often to build up a table of letter frequencies in the encrypted text. Assume that the string letters is already defined as 'abcdefghijklmnopqrstuvwxyz'. Write a function called frequencies() that takes a string as its only parameter, and returns a list of integers, showing the number of times each character appears in the text. Your function may ignore any characters that are not in letters.\n",
    ">>> frequencies('The quick red fox got bored and went home.')\n",
    "[1, 1, 1, 3, 5, 1, 1, 2, 1, 0, 1, 0, 1, 2, 4, 0, 1, 2, 0, 2, 1, 0, 1, 1, 0, 0]\n",
    ">>> frequencies('apple')"
   ]
  },
  {
   "cell_type": "code",
   "execution_count": 2,
   "id": "cbdc9018",
   "metadata": {},
   "outputs": [
    {
     "name": "stdout",
     "output_type": "stream",
     "text": [
      "Frequency of The quick red fox got bored and went home: [1, 1, 1, 3, 5, 1, 1, 2, 1, 0, 1, 0, 1, 2, 4, 0, 1, 2, 0, 3, 1, 0, 1, 1, 0, 0]\n",
      "Frequency of apples:[1, 0, 0, 0, 1, 0, 0, 0, 0, 0, 0, 1, 0, 0, 0, 2, 0, 0, 0, 0, 0, 0, 0, 0, 0, 0]\n"
     ]
    }
   ],
   "source": [
    "def frequencies(text):\n",
    "    letters = 'abcdefghijklmnopqrstuvwxyz'\n",
    "    result = [text.lower().count(char) for char in letters]\n",
    "    return result\n",
    "\n",
    "\n",
    "print(f\"Frequency of The quick red fox got bored and went home: {frequencies('The quick red fox got bored and went home.')}\")\n",
    "print(f\"Frequency of apples:{frequencies('apple')}\")"
   ]
  }
 ],
 "metadata": {
  "kernelspec": {
   "display_name": "Python 3 (ipykernel)",
   "language": "python",
   "name": "python3"
  },
  "language_info": {
   "codemirror_mode": {
    "name": "ipython",
    "version": 3
   },
   "file_extension": ".py",
   "mimetype": "text/x-python",
   "name": "python",
   "nbconvert_exporter": "python",
   "pygments_lexer": "ipython3",
   "version": "3.9.13"
  }
 },
 "nbformat": 4,
 "nbformat_minor": 5
}
